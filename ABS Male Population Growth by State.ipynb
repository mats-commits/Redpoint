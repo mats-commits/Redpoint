{
 "cells": [
  {
   "cell_type": "code",
   "execution_count": 151,
   "metadata": {},
   "outputs": [],
   "source": [
    "# import relevant libraries\n",
    "import pandas as pd\n",
    "\n",
    "# read in the csv file \n",
    "# data located on the sheet titled 'Data1'\n",
    "raw_data = pd.read_excel(\"310104.xls\", 'Data1')\n",
    "\n",
    "# Display first 20 rows\n",
    "# raw_data.head(20)"
   ]
  },
  {
   "cell_type": "markdown",
   "metadata": {},
   "source": [
    "### Cleanse raw data, index dates and collect male population estimates by state"
   ]
  },
  {
   "cell_type": "code",
   "execution_count": 153,
   "metadata": {},
   "outputs": [
    {
     "data": {
      "text/html": [
       "<div>\n",
       "<style scoped>\n",
       "    .dataframe tbody tr th:only-of-type {\n",
       "        vertical-align: middle;\n",
       "    }\n",
       "\n",
       "    .dataframe tbody tr th {\n",
       "        vertical-align: top;\n",
       "    }\n",
       "\n",
       "    .dataframe thead th {\n",
       "        text-align: right;\n",
       "    }\n",
       "</style>\n",
       "<table border=\"1\" class=\"dataframe\">\n",
       "  <thead>\n",
       "    <tr style=\"text-align: right;\">\n",
       "      <th></th>\n",
       "      <th>NSW</th>\n",
       "      <th>VIC</th>\n",
       "      <th>QLD</th>\n",
       "      <th>SA</th>\n",
       "      <th>WA</th>\n",
       "      <th>TAS</th>\n",
       "      <th>NT</th>\n",
       "    </tr>\n",
       "    <tr>\n",
       "      <th>Date</th>\n",
       "      <th></th>\n",
       "      <th></th>\n",
       "      <th></th>\n",
       "      <th></th>\n",
       "      <th></th>\n",
       "      <th></th>\n",
       "      <th></th>\n",
       "    </tr>\n",
       "  </thead>\n",
       "  <tbody>\n",
       "    <tr>\n",
       "      <td>2010-03-01</td>\n",
       "      <td>3540212</td>\n",
       "      <td>2698331</td>\n",
       "      <td>2191170</td>\n",
       "      <td>803566</td>\n",
       "      <td>1147794</td>\n",
       "      <td>252462</td>\n",
       "      <td>119772</td>\n",
       "    </tr>\n",
       "    <tr>\n",
       "      <td>2010-06-01</td>\n",
       "      <td>3548107</td>\n",
       "      <td>2705597</td>\n",
       "      <td>2199403</td>\n",
       "      <td>805365</td>\n",
       "      <td>1154064</td>\n",
       "      <td>252953</td>\n",
       "      <td>120516</td>\n",
       "    </tr>\n",
       "    <tr>\n",
       "      <td>2010-09-01</td>\n",
       "      <td>3557269</td>\n",
       "      <td>2713247</td>\n",
       "      <td>2207276</td>\n",
       "      <td>806976</td>\n",
       "      <td>1161154</td>\n",
       "      <td>253362</td>\n",
       "      <td>120926</td>\n",
       "    </tr>\n",
       "    <tr>\n",
       "      <td>2010-12-01</td>\n",
       "      <td>3565558</td>\n",
       "      <td>2720959</td>\n",
       "      <td>2214429</td>\n",
       "      <td>808037</td>\n",
       "      <td>1167862</td>\n",
       "      <td>253833</td>\n",
       "      <td>120979</td>\n",
       "    </tr>\n",
       "    <tr>\n",
       "      <td>2011-03-01</td>\n",
       "      <td>3577883</td>\n",
       "      <td>2732846</td>\n",
       "      <td>2224704</td>\n",
       "      <td>810216</td>\n",
       "      <td>1177289</td>\n",
       "      <td>254499</td>\n",
       "      <td>120802</td>\n",
       "    </tr>\n",
       "  </tbody>\n",
       "</table>\n",
       "</div>"
      ],
      "text/plain": [
       "                NSW      VIC      QLD      SA       WA     TAS      NT\n",
       "Date                                                                  \n",
       "2010-03-01  3540212  2698331  2191170  803566  1147794  252462  119772\n",
       "2010-06-01  3548107  2705597  2199403  805365  1154064  252953  120516\n",
       "2010-09-01  3557269  2713247  2207276  806976  1161154  253362  120926\n",
       "2010-12-01  3565558  2720959  2214429  808037  1167862  253833  120979\n",
       "2011-03-01  3577883  2732846  2224704  810216  1177289  254499  120802"
      ]
     },
     "execution_count": 153,
     "metadata": {},
     "output_type": "execute_result"
    }
   ],
   "source": [
    "# Data Cleansing \n",
    "\n",
    "# Locate required data, go 40 periods back as 10 year lookback with quarterly data (10*4)\n",
    "df = pd.DataFrame(raw_data.iloc[-40:, 0:8])\n",
    "\n",
    "#rename columns \n",
    "df.columns = ['Date', 'NSW', 'VIC', 'QLD', 'SA', 'WA', 'TAS', 'NT']\n",
    "\n",
    "state_list = ['NSW', 'VIC', 'QLD', 'SA', 'WA', 'TAS', 'NT']\n",
    "\n",
    "# clean up date column and index datetime value\n",
    "\n",
    "df['Date'] = pd.to_datetime(df['Date'], format = '%Y-%m-%d').dt.date\n",
    "df.set_index('Date', inplace = True)\n",
    "\n",
    "# Display first five rows to check\n",
    "df.head()"
   ]
  },
  {
   "cell_type": "markdown",
   "metadata": {},
   "source": [
    "### Find Quarterly population increase by state, find max increase for each state and quarter in which the increase occured "
   ]
  },
  {
   "cell_type": "code",
   "execution_count": 126,
   "metadata": {},
   "outputs": [],
   "source": [
    "# Create a dataframe pct_change to find the quarter-by-quater change in population by state\n",
    "pct_change = pd.DataFrame()\n",
    "\n",
    "for state in state_list:\n",
    "    pct_change[str(state)] = df[state].pct_change()\n",
    "    \n",
    "# Find max percentage growth for each state\n",
    "max_vals = dict(pct_change.max())\n",
    "\n",
    "# Find the index for the max date (i.e. the date where max growth occurs)\n",
    "max_dates = dict(pct_change.idxmax())\n",
    "\n"
   ]
  },
  {
   "cell_type": "markdown",
   "metadata": {},
   "source": [
    "### Sort and display results by state "
   ]
  },
  {
   "cell_type": "code",
   "execution_count": 148,
   "metadata": {},
   "outputs": [
    {
     "name": "stdout",
     "output_type": "stream",
     "text": [
      "Sorted Max Growth per state, with date index:\n"
     ]
    },
    {
     "data": {
      "text/html": [
       "<div>\n",
       "<style scoped>\n",
       "    .dataframe tbody tr th:only-of-type {\n",
       "        vertical-align: middle;\n",
       "    }\n",
       "\n",
       "    .dataframe tbody tr th {\n",
       "        vertical-align: top;\n",
       "    }\n",
       "\n",
       "    .dataframe thead th {\n",
       "        text-align: right;\n",
       "    }\n",
       "</style>\n",
       "<table border=\"1\" class=\"dataframe\">\n",
       "  <thead>\n",
       "    <tr style=\"text-align: right;\">\n",
       "      <th></th>\n",
       "      <th>Max Percent Change</th>\n",
       "      <th>Occurence Date</th>\n",
       "    </tr>\n",
       "  </thead>\n",
       "  <tbody>\n",
       "    <tr>\n",
       "      <td>WA</td>\n",
       "      <td>0.0102216</td>\n",
       "      <td>2012-03-01</td>\n",
       "    </tr>\n",
       "    <tr>\n",
       "      <td>NT</td>\n",
       "      <td>0.00926306</td>\n",
       "      <td>2015-06-01</td>\n",
       "    </tr>\n",
       "    <tr>\n",
       "      <td>VIC</td>\n",
       "      <td>0.00796286</td>\n",
       "      <td>2017-03-01</td>\n",
       "    </tr>\n",
       "    <tr>\n",
       "      <td>QLD</td>\n",
       "      <td>0.00588352</td>\n",
       "      <td>2012-03-01</td>\n",
       "    </tr>\n",
       "    <tr>\n",
       "      <td>NSW</td>\n",
       "      <td>0.00534751</td>\n",
       "      <td>2017-03-01</td>\n",
       "    </tr>\n",
       "    <tr>\n",
       "      <td>TAS</td>\n",
       "      <td>0.00369506</td>\n",
       "      <td>2018-09-01</td>\n",
       "    </tr>\n",
       "    <tr>\n",
       "      <td>SA</td>\n",
       "      <td>0.00356912</td>\n",
       "      <td>2012-03-01</td>\n",
       "    </tr>\n",
       "  </tbody>\n",
       "</table>\n",
       "</div>"
      ],
      "text/plain": [
       "    Max Percent Change Occurence Date\n",
       "WA           0.0102216     2012-03-01\n",
       "NT          0.00926306     2015-06-01\n",
       "VIC         0.00796286     2017-03-01\n",
       "QLD         0.00588352     2012-03-01\n",
       "NSW         0.00534751     2017-03-01\n",
       "TAS         0.00369506     2018-09-01\n",
       "SA          0.00356912     2012-03-01"
      ]
     },
     "execution_count": 148,
     "metadata": {},
     "output_type": "execute_result"
    }
   ],
   "source": [
    "results = pd.DataFrame([max_vals, max_dates])\n",
    "\n",
    "results_T = results.T\n",
    "\n",
    "results_T.columns = ['Max Percent Change', 'Occurence Date']\n",
    "\n",
    "results_T = results_T.sort_values('Max Percent Change', ascending = False)\n",
    "\n",
    "print ('Sorted Max Growth per state, with date index:')\n",
    "results_T"
   ]
  },
  {
   "cell_type": "markdown",
   "metadata": {},
   "source": [
    "#### Final result:"
   ]
  },
  {
   "cell_type": "code",
   "execution_count": 155,
   "metadata": {},
   "outputs": [
    {
     "name": "stdout",
     "output_type": "stream",
     "text": [
      "The state with the higest percentage change in population is: WA\n",
      "WA experiend a population growth increase of 1.0221551526203188 percent\n",
      "This change occured in the quarter ending in 2012-03-01\n"
     ]
    }
   ],
   "source": [
    "print ('The state with the higest percentage change in population is: ' + results_T.index[0])\n",
    "print (results_T.index[0] + ' experiend a population growth increase of ' + str(results_T.iloc[0, 0] * 100) + ' percent')\n",
    "print ('This change occured in the quarter ending in ' + str(results_T.iloc[0, 1]))"
   ]
  },
  {
   "cell_type": "markdown",
   "metadata": {},
   "source": [
    "### Data Visualisations "
   ]
  },
  {
   "cell_type": "code",
   "execution_count": 149,
   "metadata": {},
   "outputs": [
    {
     "data": {
      "image/png": "[encoded data removed]",
      "text/plain": [
       "<Figure size 432x288 with 1 Axes>"
      ]
     },
     "metadata": {
      "needs_background": "light"
     },
     "output_type": "display_data"
    }
   ],
   "source": [
    "import matplotlib\n",
    "import matplotlib.pyplot as plt\n",
    "import numpy as np\n",
    "\n",
    "\n",
    "labels = ['NSW', 'VIC', 'QLD', 'SA', 'WA', 'TAS', 'NT']\n",
    "state_means = pct_change.mean().values * 100\n",
    "state_max = pct_change.max().values * 100\n",
    "\n",
    "x = np.arange(len(labels))  # the label locations\n",
    "width = 0.35  # the width of the bars\n",
    "\n",
    "fig, ax = plt.subplots()\n",
    "rects1 = ax.bar(x - width/2, state_means, width, label='Average Growth')\n",
    "rects2 = ax.bar(x + width/2, state_max, width, label='Max Growth')\n",
    "\n",
    "# Add some text for labels, title and custom x-axis tick labels, etc.\n",
    "ax.set_ylabel('Percentage Growth')\n",
    "ax.set_title('Max Growth per Quarter vs. Average Growth per Quarter')\n",
    "ax.set_xticks(x)\n",
    "ax.set_xticklabels(labels)\n",
    "ax.legend()\n",
    "\n",
    "plt.show()"
   ]
  },
  {
   "cell_type": "code",
   "execution_count": 150,
   "metadata": {},
   "outputs": [
    {
     "data": {
      "image/png": "[encoded data removed]",
      "text/plain": [
       "<Figure size 432x288 with 2 Axes>"
      ]
     },
     "metadata": {
      "needs_background": "light"
     },
     "output_type": "display_data"
    }
   ],
   "source": [
    "# Plot WA data\n",
    "t = pct_change.index\n",
    "\n",
    "# total population\n",
    "data1 = df.WA\n",
    "\n",
    "# population growth \n",
    "data2 = pct_change.WA * 100\n",
    "\n",
    "fig, ax1 = plt.subplots()\n",
    "\n",
    "color = 'tab:red'\n",
    "ax1.set_xlabel('Date')\n",
    "ax1.set_ylabel('Male Population', color=color)\n",
    "ax1.plot(t, data1, color=color)\n",
    "ax1.tick_params(axis='y', labelcolor=color)\n",
    "\n",
    "ax2 = ax1.twinx()  # instantiate a second axes that shares the same x-axis\n",
    "\n",
    "color = 'tab:blue'\n",
    "ax2.set_ylabel('Percentage Growth per Quarter', color=color)  # we already handled the x-label with ax1\n",
    "ax2.plot(t, data2, color=color)\n",
    "ax2.tick_params(axis='y', labelcolor=color)\n",
    "\n",
    "plt.title('WA Population Metrics')\n",
    "\n",
    "fig.tight_layout()  # otherwise the right y-label is slightly clipped\n",
    "plt.show()"
   ]
  }
 ],
 "metadata": {
  "kernelspec": {
   "display_name": "Python 3",
   "language": "python",
   "name": "python3"
  },
  "language_info": {
   "codemirror_mode": {
    "name": "ipython",
    "version": 3
   },
   "file_extension": ".py",
   "mimetype": "text/x-python",
   "name": "python",
   "nbconvert_exporter": "python",
   "pygments_lexer": "ipython3",
   "version": "3.7.4"
  }
 },
 "nbformat": 4,
 "nbformat_minor": 2
}
